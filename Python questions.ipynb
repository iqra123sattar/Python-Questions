{
 "cells": [
  {
   "cell_type": "markdown",
   "id": "eff3266d",
   "metadata": {},
   "source": [
    "# We have a string \"I am studying hard to learn AI and BD\" and we want to make a new string from this one.\n",
    "The new string should look like \"studying learn and\""
   ]
  },
  {
   "cell_type": "code",
   "execution_count": 18,
   "id": "82477193",
   "metadata": {},
   "outputs": [
    {
     "name": "stdout",
     "output_type": "stream",
     "text": [
      "I am studying hard to learn AI and BD\n"
     ]
    }
   ],
   "source": [
    "my_str = \"I am studying hard to learn AI and BD\"\n",
    "print(my_str)"
   ]
  },
  {
   "cell_type": "code",
   "execution_count": 19,
   "id": "a06f28a7",
   "metadata": {},
   "outputs": [
    {
     "name": "stdout",
     "output_type": "stream",
     "text": [
      "studying learn and \n"
     ]
    }
   ],
   "source": [
    "my_str1 = my_str[5:13]\n",
    "my_str2 = my_str[22:27]\n",
    "my_str3 = my_str[31:35]\n",
    "my_str4 = my_str1+ \" \" +my_str2+\" \" +my_str3 \n",
    "print(my_str4)"
   ]
  },
  {
   "cell_type": "markdown",
   "id": "03ec8ea8",
   "metadata": {},
   "source": [
    "# Write a program that takes input from user in kilograms and convert it into pounds. The formula for conversion is pound = kg * 2.2046\n",
    "\n",
    "\n"
   ]
  },
  {
   "cell_type": "code",
   "execution_count": 1,
   "id": "6c44e96b",
   "metadata": {},
   "outputs": [
    {
     "name": "stdout",
     "output_type": "stream",
     "text": [
      "enter weight into kg and covert into pounds:3\n",
      "3.0 kilo_grams= 6.6138 pounds\n"
     ]
    }
   ],
   "source": [
    "kg = float(input(\"enter weight into kg and covert into pounds:\"))\n",
    "pounds = kg*2.2046\n",
    "print(kg,'kilo_grams=', pounds, 'pounds')"
   ]
  },
  {
   "cell_type": "code",
   "execution_count": 5,
   "id": "dada336c",
   "metadata": {},
   "outputs": [
    {
     "name": "stdout",
     "output_type": "stream",
     "text": [
      "enter kg or done for exit2.0\n",
      "2.0kg in pounds are4.4092\n",
      "enter kg or done for exit5.0\n",
      "5.0kg in pounds are11.023\n",
      "enter kg or done for exit10.0\n",
      "10.0kg in pounds are22.046\n",
      "enter kg or done for exit30.0\n",
      "30.0kg in pounds are66.138\n",
      "enter kg or done for exitdone\n",
      "Thankyou\n"
     ]
    }
   ],
   "source": [
    "while True:\n",
    "    data = input(\"enter kg or done for exit\")\n",
    "    if data==\"done\":\n",
    "        print(\"Thankyou\")\n",
    "        break\n",
    "        \n",
    "    data = float(data)\n",
    "    pounds = data*2.2046\n",
    "    print(str(data)+\"kg in pounds are\"+str(pounds))\n"
   ]
  },
  {
   "cell_type": "markdown",
   "id": "2e7a217e",
   "metadata": {},
   "source": [
    "# Write a program that takes marks as input from the user. If the entered marks are greater than 50, a message saying \"Passed\" is shown to the user otherwise, a message saying \"Failed\" is shown.\n"
   ]
  },
  {
   "cell_type": "code",
   "execution_count": 3,
   "id": "05babac6",
   "metadata": {},
   "outputs": [
    {
     "name": "stdout",
     "output_type": "stream",
     "text": [
      "Plz Enter Marks or done for exit50\n",
      "failed\n",
      "Plz Enter Marks or done for exit53\n",
      "passed\n",
      "Plz Enter Marks or done for exit60\n",
      "passed\n",
      "Plz Enter Marks or done for exitdone\n",
      "Thank You\n"
     ]
    }
   ],
   "source": [
    "while True:\n",
    "    data = input(\"Plz Enter Marks or done for exit\")\n",
    "    if data == 'done':\n",
    "        print(\"Thank You\")\n",
    "        break\n",
    "        \n",
    "    data =float(data)\n",
    "    if data > 50:\n",
    "        print(\"passed\")\n",
    "    else:\n",
    "        print(\"failed\")"
   ]
  },
  {
   "cell_type": "markdown",
   "id": "9ff2865e",
   "metadata": {},
   "source": [
    "# A recruitment activity is taking place at a company. The physical requirements include weight between 50kg and 100kg, BMI more than 10 but less than 20, and height more than 5 feet.\n",
    "The company needs a software solution to automate the selection process. When user enters details, the software responds with either \"selected\" or \"not selected\".\n",
    "Company wants to select those who fulfill the above mentioned criteria but if someone with weight exceeding the limit, or BMI exceeding the mentioned limit applies and the person is married, he/she gets selected. Similarly if height is less than the requirement and the applicant is married, he/she gets selected.\n"
   ]
  },
  {
   "cell_type": "code",
   "execution_count": 4,
   "id": "9545f3c9",
   "metadata": {},
   "outputs": [
    {
     "name": "stdout",
     "output_type": "stream",
     "text": [
      "weiht: 57\n",
      "BMI:13\n",
      "height: 6\n",
      "matrial status: unmarried\n",
      "selected\n"
     ]
    }
   ],
   "source": [
    "#weight between 50kg and 100kg \n",
    "#BMI more than 10 but less than 20,\n",
    "#height more than 5 feet. \n",
    "#if married\n",
    "#weight exceeding the limit\n",
    "#BMI exceeding the mentioned limit \n",
    "#height is less than the requirement \n",
    "\n",
    "weight = float(input(\"weiht: \"))\n",
    "BMI = float(input(\"BMI:\"))\n",
    "height = float(input(\"height: \"))\n",
    "\n",
    "status = input(\"matrial status: \")\n",
    "\n",
    "con1=((weight>=50 and weight<=100)and (BMI>10 and BMI<20) and(height>5))\n",
    "con2=((weight>100 and status==\"married\")or( BMI>20 and status==\"married\")or(height<5 and status==\"married\"))\n",
    "if con1 or con2:\n",
    "    print(\"selected\")\n",
    "else:\n",
    "    print(\"not selected\")"
   ]
  },
  {
   "cell_type": "markdown",
   "id": "fe31db14",
   "metadata": {
    "collapsed": true
   },
   "source": [
    "# Here is a list of names: ['Abdullah', 'Tayyaba', 'Waheed', 'Fatima', 'Basim', 'Hira']\n",
    "Write a program that goes over this list and separates the names of males and females in two different lists and after getting done with them, shows the lists on screen.\n",
    "Hint: There is a pattern to these names. Find the pattern and use % operator\n"
   ]
  },
  {
   "cell_type": "code",
   "execution_count": 2,
   "id": "c50b7559",
   "metadata": {},
   "outputs": [
    {
     "name": "stdout",
     "output_type": "stream",
     "text": [
      "['Abdullah', 'Waheed', 'Basim']\n",
      "['Tayyaba', 'Fatima', 'Hira']\n"
     ]
    }
   ],
   "source": [
    "data = ['Abdullah', 'Tayyaba', 'Waheed', 'Fatima', 'Basim', 'Hira']\n",
    "    \n",
    "males = []\n",
    "females = []\n",
    "for i in range(len(data)):\n",
    "    if i%2 == 0:\n",
    "        males.append(data[i]) \n",
    "    else:\n",
    "        females.append(data[i])\n",
    "print(males)\n",
    "print(females)"
   ]
  },
  {
   "cell_type": "markdown",
   "id": "81431ed5",
   "metadata": {},
   "source": [
    "# Make a program that takes roll-numbers of students alongwith their marks in 3 subjects: Urdu, English, and Python and saves their details in a file. Then it reads the files and let the user know about the marks of the student in a particular subject against the provided roll-number."
   ]
  },
  {
   "cell_type": "code",
   "execution_count": 1,
   "id": "ab792a11",
   "metadata": {},
   "outputs": [
    {
     "name": "stdout",
     "output_type": "stream",
     "text": [
      "For data entry 1, for dta retrivel 2, for quit 3: 1\n",
      "Roll No: 4\n",
      "Ur Marks: 78\n",
      "Eng Marks: 90\n",
      "Py Marks: 90\n",
      "For data entry 1, for dta retrivel 2, for quit 3: 2\n",
      "Roll No: 7\n",
      "Subject Name(urd, english or python): 67,89 or 90\n",
      "For data entry 1, for dta retrivel 2, for quit 3: 3\n",
      "Thankyou for using this servis\n"
     ]
    }
   ],
   "source": [
    "while True:\n",
    "    choice = input(\"For data entry 1, for dta retrivel 2, for quit 3: \")\n",
    "    if choice=='1':\n",
    "        roll = input(\"Roll No: \")\n",
    "        urd =  input(\"Ur Marks: \")\n",
    "        eng = input(\"Eng Marks: \")\n",
    "        pyt = input(\"Py Marks: \")\n",
    "        data = {roll:{'urdu':urd, 'english':eng, 'python':pyt}}\n",
    "        try:\n",
    "            file = open(\"data.txt\", \"a\", encoding='utf-8')\n",
    "            file.write(str(data)+\"\\n\")\n",
    "            file.close()\n",
    "        except Exception as e:\n",
    "            print(\"File could not be created\")\n",
    "            continue\n",
    "    elif choice=='2':\n",
    "        try:\n",
    "            roll = input(\"Roll No: \")\n",
    "            subject = input(\"Subject Name(urd, english or python): \") \n",
    "                            \n",
    "            file = open(\"data.txt\", \"r\", encoding='utf-8')\n",
    "            for line in file:\n",
    "                line = eval(line) \n",
    "                if roll in line.keys():\n",
    "                    print(line[roll][subject])\n",
    "                    break\n",
    "            file.close()\n",
    "        except FileNotFoundError:\n",
    "             print(\"no file found\") \n",
    "    elif choice=='3':\n",
    "        print(\"Thankyou for using this servis\")\n",
    "        break\n",
    "                            \n",
    "    else:\n",
    "          print(\"Wrong Input.Try again Plz\")                                             "
   ]
  },
  {
   "cell_type": "code",
   "execution_count": null,
   "id": "b6ec7fe1",
   "metadata": {},
   "outputs": [],
   "source": []
  },
  {
   "cell_type": "code",
   "execution_count": null,
   "id": "cb9e336e",
   "metadata": {},
   "outputs": [],
   "source": []
  }
 ],
 "metadata": {
  "kernelspec": {
   "display_name": "Python 3",
   "language": "python",
   "name": "python3"
  },
  "language_info": {
   "codemirror_mode": {
    "name": "ipython",
    "version": 3
   },
   "file_extension": ".py",
   "mimetype": "text/x-python",
   "name": "python",
   "nbconvert_exporter": "python",
   "pygments_lexer": "ipython3",
   "version": "3.8.8"
  }
 },
 "nbformat": 4,
 "nbformat_minor": 5
}
